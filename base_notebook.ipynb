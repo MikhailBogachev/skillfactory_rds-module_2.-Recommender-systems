{
 "cells": [
  {
   "cell_type": "code",
   "execution_count": 20,
   "metadata": {
    "_cell_guid": "b1076dfc-b9ad-4769-8c92-a6c4dae69d19",
    "_uuid": "8f2839f25d086af736a60e9eeb907d3b93b6e0e5"
   },
   "outputs": [
    {
     "name": "stdout",
     "output_type": "stream",
     "text": [
      "/home/mikhail/anaconda3/envs/project/project_rs/submission1.csv\n",
      "/home/mikhail/anaconda3/envs/project/project_rs/sample_submission.csv\n",
      "/home/mikhail/anaconda3/envs/project/project_rs/Без названия.ipynb\n",
      "/home/mikhail/anaconda3/envs/project/project_rs/baselinenotebook.ipynb\n",
      "/home/mikhail/anaconda3/envs/project/project_rs/submission2.csv\n",
      "/home/mikhail/anaconda3/envs/project/project_rs/test.csv\n",
      "/home/mikhail/anaconda3/envs/project/project_rs/submission.csv\n",
      "/home/mikhail/anaconda3/envs/project/project_rs/train.csv\n",
      "/home/mikhail/anaconda3/envs/project/project_rs/.ipynb_checkpoints/baselinenotebook-checkpoint.ipynb\n",
      "/home/mikhail/anaconda3/envs/project/project_rs/.ipynb_checkpoints/Без названия-checkpoint.ipynb\n"
     ]
    }
   ],
   "source": [
    "# This Python 3 environment comes with many helpful analytics libraries installed\n",
    "# It is defined by the kaggle/python docker image: https://github.com/kaggle/docker-python\n",
    "# For example, here's several helpful packages to load in \n",
    "\n",
    "import numpy as np # linear algebra\n",
    "import pandas as pd # data processing, CSV file I/O (e.g. pd.read_csv)\n",
    "\n",
    "# Input data files are available in the \"../input/\" directory.\n",
    "# For example, running this (by clicking run or pressing Shift+Enter) will list all files under the input directory\n",
    "\n",
    "import os\n",
    "for dirname, _, filenames in os.walk('/home/mikhail/anaconda3/envs/project/project_rs'):\n",
    "    for filename in filenames:\n",
    "        print(os.path.join(dirname, filename))\n",
    "\n",
    "# Any results you write to the current directory are saved as output."
   ]
  },
  {
   "cell_type": "code",
   "execution_count": 21,
   "metadata": {},
   "outputs": [
    {
     "name": "stderr",
     "output_type": "stream",
     "text": [
      "/home/mikhail/anaconda3/envs/project/env/lib/python3.8/site-packages/IPython/core/interactiveshell.py:3145: DtypeWarning: Columns (8) have mixed types.Specify dtype option on import or set low_memory=False.\n",
      "  has_raised = await self.run_ast_nodes(code_ast.body, cell_name,\n",
      "/home/mikhail/anaconda3/envs/project/env/lib/python3.8/site-packages/IPython/core/interactiveshell.py:3145: DtypeWarning: Columns (5) have mixed types.Specify dtype option on import or set low_memory=False.\n",
      "  has_raised = await self.run_ast_nodes(code_ast.body, cell_name,\n"
     ]
    }
   ],
   "source": [
    "#Читаем файлы\n",
    "train = pd.read_csv('/home/mikhail/anaconda3/envs/project/project_rs/train.csv')\n",
    "test = pd.read_csv('/home/mikhail/anaconda3/envs/project/project_rs/test.csv')\n",
    "submission = pd.read_csv('/home/mikhail/anaconda3/envs/project/project_rs/sample_submission.csv')"
   ]
  },
  {
   "cell_type": "code",
   "execution_count": 142,
   "metadata": {
    "_cell_guid": "79c7e3d0-c299-4dcb-8224-4455121ee9b0",
    "_uuid": "d629ff2d2480ee46fbb7e2d37f6b5fab8052498a"
   },
   "outputs": [],
   "source": [
    "import scipy.sparse as sparse\n",
    "\n",
    "from lightfm import LightFM\n",
    "from lightfm.cross_validation import random_train_test_split\n",
    "from lightfm.evaluation import auc_score, precision_at_k, recall_at_k\n",
    "import sklearn\n",
    "from sklearn.model_selection import train_test_split\n",
    "\n",
    "import scipy.sparse as sparse\n",
    "\n",
    "import seaborn as sns\n",
    "import matplotlib.pyplot as plt\n",
    "%matplotlib inline\n",
    "import pickle"
   ]
  },
  {
   "cell_type": "markdown",
   "metadata": {},
   "source": [
    "### Preprocessing data"
   ]
  },
  {
   "cell_type": "code",
   "execution_count": 23,
   "metadata": {},
   "outputs": [
    {
     "data": {
      "text/plain": [
       "((857895, 14),\n",
       " overall                0\n",
       " verified               0\n",
       " reviewTime             0\n",
       " asin                   0\n",
       " reviewerName         176\n",
       " reviewText           279\n",
       " summary              170\n",
       " unixReviewTime         0\n",
       " vote              739155\n",
       " style             413489\n",
       " image             850753\n",
       " userid                 0\n",
       " itemid                 0\n",
       " rating                 0\n",
       " dtype: int64)"
      ]
     },
     "execution_count": 23,
     "metadata": {},
     "output_type": "execute_result"
    }
   ],
   "source": [
    "train.shape, train.isna().sum()"
   ]
  },
  {
   "cell_type": "code",
   "execution_count": 24,
   "metadata": {},
   "outputs": [
    {
     "data": {
      "text/html": [
       "<div>\n",
       "<style scoped>\n",
       "    .dataframe tbody tr th:only-of-type {\n",
       "        vertical-align: middle;\n",
       "    }\n",
       "\n",
       "    .dataframe tbody tr th {\n",
       "        vertical-align: top;\n",
       "    }\n",
       "\n",
       "    .dataframe thead th {\n",
       "        text-align: right;\n",
       "    }\n",
       "</style>\n",
       "<table border=\"1\" class=\"dataframe\">\n",
       "  <thead>\n",
       "    <tr style=\"text-align: right;\">\n",
       "      <th></th>\n",
       "      <th>overall</th>\n",
       "      <th>verified</th>\n",
       "      <th>reviewTime</th>\n",
       "      <th>asin</th>\n",
       "      <th>reviewerName</th>\n",
       "      <th>reviewText</th>\n",
       "      <th>summary</th>\n",
       "      <th>unixReviewTime</th>\n",
       "      <th>vote</th>\n",
       "      <th>style</th>\n",
       "      <th>image</th>\n",
       "      <th>userid</th>\n",
       "      <th>itemid</th>\n",
       "      <th>rating</th>\n",
       "    </tr>\n",
       "  </thead>\n",
       "  <tbody>\n",
       "    <tr>\n",
       "      <th>0</th>\n",
       "      <td>5.0</td>\n",
       "      <td>True</td>\n",
       "      <td>10 4, 2016</td>\n",
       "      <td>B01CPNIEQG</td>\n",
       "      <td>Heather</td>\n",
       "      <td>These are my FAVORITE spices in my collection....</td>\n",
       "      <td>Must Add to your Spice kitchen!</td>\n",
       "      <td>1475539200</td>\n",
       "      <td>NaN</td>\n",
       "      <td>NaN</td>\n",
       "      <td>NaN</td>\n",
       "      <td>102179</td>\n",
       "      <td>37138</td>\n",
       "      <td>1.0</td>\n",
       "    </tr>\n",
       "    <tr>\n",
       "      <th>1</th>\n",
       "      <td>5.0</td>\n",
       "      <td>True</td>\n",
       "      <td>03 1, 2016</td>\n",
       "      <td>B006F63M8U</td>\n",
       "      <td>Linda Odom</td>\n",
       "      <td>Add A package to my Coffee and it makes a good...</td>\n",
       "      <td>Milk Chocolate Swiis MIss Hot Cocoa Mix</td>\n",
       "      <td>1456790400</td>\n",
       "      <td>NaN</td>\n",
       "      <td>{'Size:': ' 60-0.73 oz Envelopes'}</td>\n",
       "      <td>NaN</td>\n",
       "      <td>3625</td>\n",
       "      <td>17322</td>\n",
       "      <td>1.0</td>\n",
       "    </tr>\n",
       "    <tr>\n",
       "      <th>2</th>\n",
       "      <td>5.0</td>\n",
       "      <td>True</td>\n",
       "      <td>06 26, 2016</td>\n",
       "      <td>B00112O8NG</td>\n",
       "      <td>DesertBlossom</td>\n",
       "      <td>I love the Torani syrups, but not the prices o...</td>\n",
       "      <td>Love these sugar free syrups, but didn't love ...</td>\n",
       "      <td>1466899200</td>\n",
       "      <td>28</td>\n",
       "      <td>NaN</td>\n",
       "      <td>NaN</td>\n",
       "      <td>39495</td>\n",
       "      <td>5600</td>\n",
       "      <td>1.0</td>\n",
       "    </tr>\n",
       "    <tr>\n",
       "      <th>3</th>\n",
       "      <td>5.0</td>\n",
       "      <td>True</td>\n",
       "      <td>09 5, 2013</td>\n",
       "      <td>B00MRAQUM8</td>\n",
       "      <td>Connie L. Reaves</td>\n",
       "      <td>Very fragrant. The price can't be beat. I do l...</td>\n",
       "      <td>Nice !</td>\n",
       "      <td>1378339200</td>\n",
       "      <td>NaN</td>\n",
       "      <td>NaN</td>\n",
       "      <td>NaN</td>\n",
       "      <td>72854</td>\n",
       "      <td>30249</td>\n",
       "      <td>1.0</td>\n",
       "    </tr>\n",
       "    <tr>\n",
       "      <th>4</th>\n",
       "      <td>5.0</td>\n",
       "      <td>True</td>\n",
       "      <td>09 14, 2016</td>\n",
       "      <td>B000R7RN0G</td>\n",
       "      <td>Mike P.</td>\n",
       "      <td>These are my favorite jalapeno chips so far. T...</td>\n",
       "      <td>These are my favorite jalapeno chips so far</td>\n",
       "      <td>1473811200</td>\n",
       "      <td>NaN</td>\n",
       "      <td>{'Flavor:': ' Jalapeo'}</td>\n",
       "      <td>NaN</td>\n",
       "      <td>74859</td>\n",
       "      <td>4349</td>\n",
       "      <td>1.0</td>\n",
       "    </tr>\n",
       "  </tbody>\n",
       "</table>\n",
       "</div>"
      ],
      "text/plain": [
       "   overall  verified   reviewTime        asin      reviewerName  \\\n",
       "0      5.0      True   10 4, 2016  B01CPNIEQG           Heather   \n",
       "1      5.0      True   03 1, 2016  B006F63M8U        Linda Odom   \n",
       "2      5.0      True  06 26, 2016  B00112O8NG     DesertBlossom   \n",
       "3      5.0      True   09 5, 2013  B00MRAQUM8  Connie L. Reaves   \n",
       "4      5.0      True  09 14, 2016  B000R7RN0G           Mike P.   \n",
       "\n",
       "                                          reviewText  \\\n",
       "0  These are my FAVORITE spices in my collection....   \n",
       "1  Add A package to my Coffee and it makes a good...   \n",
       "2  I love the Torani syrups, but not the prices o...   \n",
       "3  Very fragrant. The price can't be beat. I do l...   \n",
       "4  These are my favorite jalapeno chips so far. T...   \n",
       "\n",
       "                                             summary  unixReviewTime vote  \\\n",
       "0                    Must Add to your Spice kitchen!      1475539200  NaN   \n",
       "1            Milk Chocolate Swiis MIss Hot Cocoa Mix      1456790400  NaN   \n",
       "2  Love these sugar free syrups, but didn't love ...      1466899200   28   \n",
       "3                                             Nice !      1378339200  NaN   \n",
       "4        These are my favorite jalapeno chips so far      1473811200  NaN   \n",
       "\n",
       "                                style image  userid  itemid  rating  \n",
       "0                                 NaN   NaN  102179   37138     1.0  \n",
       "1  {'Size:': ' 60-0.73 oz Envelopes'}   NaN    3625   17322     1.0  \n",
       "2                                 NaN   NaN   39495    5600     1.0  \n",
       "3                                 NaN   NaN   72854   30249     1.0  \n",
       "4             {'Flavor:': ' Jalapeo'}   NaN   74859    4349     1.0  "
      ]
     },
     "execution_count": 24,
     "metadata": {},
     "output_type": "execute_result"
    }
   ],
   "source": [
    "train.head()"
   ]
  },
  {
   "cell_type": "code",
   "execution_count": 25,
   "metadata": {},
   "outputs": [
    {
     "data": {
      "text/html": [
       "<div>\n",
       "<style scoped>\n",
       "    .dataframe tbody tr th:only-of-type {\n",
       "        vertical-align: middle;\n",
       "    }\n",
       "\n",
       "    .dataframe tbody tr th {\n",
       "        vertical-align: top;\n",
       "    }\n",
       "\n",
       "    .dataframe thead th {\n",
       "        text-align: right;\n",
       "    }\n",
       "</style>\n",
       "<table border=\"1\" class=\"dataframe\">\n",
       "  <thead>\n",
       "    <tr style=\"text-align: right;\">\n",
       "      <th></th>\n",
       "      <th>verified</th>\n",
       "      <th>reviewTime</th>\n",
       "      <th>asin</th>\n",
       "      <th>reviewerName</th>\n",
       "      <th>unixReviewTime</th>\n",
       "      <th>vote</th>\n",
       "      <th>style</th>\n",
       "      <th>image</th>\n",
       "      <th>userid</th>\n",
       "      <th>itemid</th>\n",
       "      <th>Id</th>\n",
       "    </tr>\n",
       "  </thead>\n",
       "  <tbody>\n",
       "    <tr>\n",
       "      <th>0</th>\n",
       "      <td>True</td>\n",
       "      <td>10 1, 2016</td>\n",
       "      <td>B001E5E3X0</td>\n",
       "      <td>Rudys Mom</td>\n",
       "      <td>1475280000</td>\n",
       "      <td>NaN</td>\n",
       "      <td>NaN</td>\n",
       "      <td>NaN</td>\n",
       "      <td>68877</td>\n",
       "      <td>7506</td>\n",
       "      <td>0</td>\n",
       "    </tr>\n",
       "    <tr>\n",
       "      <th>1</th>\n",
       "      <td>True</td>\n",
       "      <td>06 29, 2014</td>\n",
       "      <td>B005BYXX5E</td>\n",
       "      <td>pharg</td>\n",
       "      <td>1404000000</td>\n",
       "      <td>2</td>\n",
       "      <td>NaN</td>\n",
       "      <td>NaN</td>\n",
       "      <td>50442</td>\n",
       "      <td>15530</td>\n",
       "      <td>1</td>\n",
       "    </tr>\n",
       "    <tr>\n",
       "      <th>2</th>\n",
       "      <td>True</td>\n",
       "      <td>05 19, 2015</td>\n",
       "      <td>B0052OK6OO</td>\n",
       "      <td>dhalex</td>\n",
       "      <td>1431993600</td>\n",
       "      <td>NaN</td>\n",
       "      <td>NaN</td>\n",
       "      <td>NaN</td>\n",
       "      <td>64349</td>\n",
       "      <td>15049</td>\n",
       "      <td>2</td>\n",
       "    </tr>\n",
       "    <tr>\n",
       "      <th>3</th>\n",
       "      <td>True</td>\n",
       "      <td>10 5, 2014</td>\n",
       "      <td>B003SO8HGE</td>\n",
       "      <td>Vanessa</td>\n",
       "      <td>1412467200</td>\n",
       "      <td>NaN</td>\n",
       "      <td>{'Flavor:': ' Sweet Rose'}</td>\n",
       "      <td>NaN</td>\n",
       "      <td>26206</td>\n",
       "      <td>11957</td>\n",
       "      <td>3</td>\n",
       "    </tr>\n",
       "    <tr>\n",
       "      <th>4</th>\n",
       "      <td>True</td>\n",
       "      <td>11 11, 2013</td>\n",
       "      <td>B003XUJ564</td>\n",
       "      <td>R Mohrman</td>\n",
       "      <td>1384128000</td>\n",
       "      <td>3</td>\n",
       "      <td>{'Size:': ' 15 Ounce (Pack of 12)', 'Flavor:':...</td>\n",
       "      <td>NaN</td>\n",
       "      <td>59366</td>\n",
       "      <td>12173</td>\n",
       "      <td>4</td>\n",
       "    </tr>\n",
       "  </tbody>\n",
       "</table>\n",
       "</div>"
      ],
      "text/plain": [
       "   verified   reviewTime        asin reviewerName  unixReviewTime vote  \\\n",
       "0      True   10 1, 2016  B001E5E3X0    Rudys Mom      1475280000  NaN   \n",
       "1      True  06 29, 2014  B005BYXX5E        pharg      1404000000    2   \n",
       "2      True  05 19, 2015  B0052OK6OO       dhalex      1431993600  NaN   \n",
       "3      True   10 5, 2014  B003SO8HGE      Vanessa      1412467200  NaN   \n",
       "4      True  11 11, 2013  B003XUJ564    R Mohrman      1384128000    3   \n",
       "\n",
       "                                               style image  userid  itemid  Id  \n",
       "0                                                NaN   NaN   68877    7506   0  \n",
       "1                                                NaN   NaN   50442   15530   1  \n",
       "2                                                NaN   NaN   64349   15049   2  \n",
       "3                         {'Flavor:': ' Sweet Rose'}   NaN   26206   11957   3  \n",
       "4  {'Size:': ' 15 Ounce (Pack of 12)', 'Flavor:':...   NaN   59366   12173   4  "
      ]
     },
     "execution_count": 25,
     "metadata": {},
     "output_type": "execute_result"
    }
   ],
   "source": [
    "test.head()"
   ]
  },
  {
   "cell_type": "code",
   "execution_count": 26,
   "metadata": {},
   "outputs": [],
   "source": [
    "#Создаем общую выюорку (train + test). Удаляем столбцы отсутствующие в test.\n",
    "train['sample'] = 1\n",
    "test['sample'] = 0\n",
    "y_train = train['rating']\n",
    "df = pd.concat([train.drop(['overall', 'reviewText', 'summary', 'rating'], axis = 1), test.drop(['Id'], axis = 1)], \n",
    "               axis = 0, ignore_index = True)"
   ]
  },
  {
   "cell_type": "code",
   "execution_count": 27,
   "metadata": {},
   "outputs": [
    {
     "data": {
      "text/html": [
       "<div>\n",
       "<style scoped>\n",
       "    .dataframe tbody tr th:only-of-type {\n",
       "        vertical-align: middle;\n",
       "    }\n",
       "\n",
       "    .dataframe tbody tr th {\n",
       "        vertical-align: top;\n",
       "    }\n",
       "\n",
       "    .dataframe thead th {\n",
       "        text-align: right;\n",
       "    }\n",
       "</style>\n",
       "<table border=\"1\" class=\"dataframe\">\n",
       "  <thead>\n",
       "    <tr style=\"text-align: right;\">\n",
       "      <th></th>\n",
       "      <th>verified</th>\n",
       "      <th>reviewTime</th>\n",
       "      <th>asin</th>\n",
       "      <th>reviewerName</th>\n",
       "      <th>unixReviewTime</th>\n",
       "      <th>vote</th>\n",
       "      <th>style</th>\n",
       "      <th>image</th>\n",
       "      <th>userid</th>\n",
       "      <th>itemid</th>\n",
       "      <th>sample</th>\n",
       "    </tr>\n",
       "  </thead>\n",
       "  <tbody>\n",
       "    <tr>\n",
       "      <th>0</th>\n",
       "      <td>True</td>\n",
       "      <td>10 4, 2016</td>\n",
       "      <td>B01CPNIEQG</td>\n",
       "      <td>Heather</td>\n",
       "      <td>1475539200</td>\n",
       "      <td>NaN</td>\n",
       "      <td>NaN</td>\n",
       "      <td>NaN</td>\n",
       "      <td>102179</td>\n",
       "      <td>37138</td>\n",
       "      <td>1</td>\n",
       "    </tr>\n",
       "    <tr>\n",
       "      <th>1</th>\n",
       "      <td>True</td>\n",
       "      <td>03 1, 2016</td>\n",
       "      <td>B006F63M8U</td>\n",
       "      <td>Linda Odom</td>\n",
       "      <td>1456790400</td>\n",
       "      <td>NaN</td>\n",
       "      <td>{'Size:': ' 60-0.73 oz Envelopes'}</td>\n",
       "      <td>NaN</td>\n",
       "      <td>3625</td>\n",
       "      <td>17322</td>\n",
       "      <td>1</td>\n",
       "    </tr>\n",
       "    <tr>\n",
       "      <th>2</th>\n",
       "      <td>True</td>\n",
       "      <td>06 26, 2016</td>\n",
       "      <td>B00112O8NG</td>\n",
       "      <td>DesertBlossom</td>\n",
       "      <td>1466899200</td>\n",
       "      <td>28</td>\n",
       "      <td>NaN</td>\n",
       "      <td>NaN</td>\n",
       "      <td>39495</td>\n",
       "      <td>5600</td>\n",
       "      <td>1</td>\n",
       "    </tr>\n",
       "    <tr>\n",
       "      <th>3</th>\n",
       "      <td>True</td>\n",
       "      <td>09 5, 2013</td>\n",
       "      <td>B00MRAQUM8</td>\n",
       "      <td>Connie L. Reaves</td>\n",
       "      <td>1378339200</td>\n",
       "      <td>NaN</td>\n",
       "      <td>NaN</td>\n",
       "      <td>NaN</td>\n",
       "      <td>72854</td>\n",
       "      <td>30249</td>\n",
       "      <td>1</td>\n",
       "    </tr>\n",
       "    <tr>\n",
       "      <th>4</th>\n",
       "      <td>True</td>\n",
       "      <td>09 14, 2016</td>\n",
       "      <td>B000R7RN0G</td>\n",
       "      <td>Mike P.</td>\n",
       "      <td>1473811200</td>\n",
       "      <td>NaN</td>\n",
       "      <td>{'Flavor:': ' Jalapeo'}</td>\n",
       "      <td>NaN</td>\n",
       "      <td>74859</td>\n",
       "      <td>4349</td>\n",
       "      <td>1</td>\n",
       "    </tr>\n",
       "    <tr>\n",
       "      <th>...</th>\n",
       "      <td>...</td>\n",
       "      <td>...</td>\n",
       "      <td>...</td>\n",
       "      <td>...</td>\n",
       "      <td>...</td>\n",
       "      <td>...</td>\n",
       "      <td>...</td>\n",
       "      <td>...</td>\n",
       "      <td>...</td>\n",
       "      <td>...</td>\n",
       "      <td>...</td>\n",
       "    </tr>\n",
       "    <tr>\n",
       "      <th>1143855</th>\n",
       "      <td>True</td>\n",
       "      <td>01 17, 2016</td>\n",
       "      <td>B00FLD3X28</td>\n",
       "      <td>A. Banks</td>\n",
       "      <td>1452988800</td>\n",
       "      <td>NaN</td>\n",
       "      <td>{'Size:': ' 1 Pound'}</td>\n",
       "      <td>NaN</td>\n",
       "      <td>294</td>\n",
       "      <td>25601</td>\n",
       "      <td>0</td>\n",
       "    </tr>\n",
       "    <tr>\n",
       "      <th>1143856</th>\n",
       "      <td>True</td>\n",
       "      <td>08 22, 2015</td>\n",
       "      <td>B0078DQ85S</td>\n",
       "      <td>HighEnergy</td>\n",
       "      <td>1440201600</td>\n",
       "      <td>NaN</td>\n",
       "      <td>{'Flavor:': ' Cinnamon &amp; Currant'}</td>\n",
       "      <td>NaN</td>\n",
       "      <td>119653</td>\n",
       "      <td>18204</td>\n",
       "      <td>0</td>\n",
       "    </tr>\n",
       "    <tr>\n",
       "      <th>1143857</th>\n",
       "      <td>True</td>\n",
       "      <td>09 21, 2017</td>\n",
       "      <td>B000FZVLFS</td>\n",
       "      <td>Sam Jackson</td>\n",
       "      <td>1505952000</td>\n",
       "      <td>NaN</td>\n",
       "      <td>{'Flavor:': ' Espresso Forte'}</td>\n",
       "      <td>NaN</td>\n",
       "      <td>54673</td>\n",
       "      <td>2287</td>\n",
       "      <td>0</td>\n",
       "    </tr>\n",
       "    <tr>\n",
       "      <th>1143858</th>\n",
       "      <td>True</td>\n",
       "      <td>03 27, 2018</td>\n",
       "      <td>B001PB801Y</td>\n",
       "      <td>Louis J. Dezseran Sr.</td>\n",
       "      <td>1522108800</td>\n",
       "      <td>NaN</td>\n",
       "      <td>{'Size:': ' 5lb'}</td>\n",
       "      <td>NaN</td>\n",
       "      <td>16569</td>\n",
       "      <td>9343</td>\n",
       "      <td>0</td>\n",
       "    </tr>\n",
       "    <tr>\n",
       "      <th>1143859</th>\n",
       "      <td>True</td>\n",
       "      <td>10 18, 2015</td>\n",
       "      <td>B008X6KE0E</td>\n",
       "      <td>JRG</td>\n",
       "      <td>1445126400</td>\n",
       "      <td>NaN</td>\n",
       "      <td>NaN</td>\n",
       "      <td>NaN</td>\n",
       "      <td>56489</td>\n",
       "      <td>19483</td>\n",
       "      <td>0</td>\n",
       "    </tr>\n",
       "  </tbody>\n",
       "</table>\n",
       "<p>1143860 rows × 11 columns</p>\n",
       "</div>"
      ],
      "text/plain": [
       "         verified   reviewTime        asin           reviewerName  \\\n",
       "0            True   10 4, 2016  B01CPNIEQG                Heather   \n",
       "1            True   03 1, 2016  B006F63M8U             Linda Odom   \n",
       "2            True  06 26, 2016  B00112O8NG          DesertBlossom   \n",
       "3            True   09 5, 2013  B00MRAQUM8       Connie L. Reaves   \n",
       "4            True  09 14, 2016  B000R7RN0G                Mike P.   \n",
       "...           ...          ...         ...                    ...   \n",
       "1143855      True  01 17, 2016  B00FLD3X28               A. Banks   \n",
       "1143856      True  08 22, 2015  B0078DQ85S             HighEnergy   \n",
       "1143857      True  09 21, 2017  B000FZVLFS            Sam Jackson   \n",
       "1143858      True  03 27, 2018  B001PB801Y  Louis J. Dezseran Sr.   \n",
       "1143859      True  10 18, 2015  B008X6KE0E                    JRG   \n",
       "\n",
       "         unixReviewTime vote                               style image  \\\n",
       "0            1475539200  NaN                                 NaN   NaN   \n",
       "1            1456790400  NaN  {'Size:': ' 60-0.73 oz Envelopes'}   NaN   \n",
       "2            1466899200   28                                 NaN   NaN   \n",
       "3            1378339200  NaN                                 NaN   NaN   \n",
       "4            1473811200  NaN             {'Flavor:': ' Jalapeo'}   NaN   \n",
       "...                 ...  ...                                 ...   ...   \n",
       "1143855      1452988800  NaN               {'Size:': ' 1 Pound'}   NaN   \n",
       "1143856      1440201600  NaN  {'Flavor:': ' Cinnamon & Currant'}   NaN   \n",
       "1143857      1505952000  NaN      {'Flavor:': ' Espresso Forte'}   NaN   \n",
       "1143858      1522108800  NaN                   {'Size:': ' 5lb'}   NaN   \n",
       "1143859      1445126400  NaN                                 NaN   NaN   \n",
       "\n",
       "         userid  itemid  sample  \n",
       "0        102179   37138       1  \n",
       "1          3625   17322       1  \n",
       "2         39495    5600       1  \n",
       "3         72854   30249       1  \n",
       "4         74859    4349       1  \n",
       "...         ...     ...     ...  \n",
       "1143855     294   25601       0  \n",
       "1143856  119653   18204       0  \n",
       "1143857   54673    2287       0  \n",
       "1143858   16569    9343       0  \n",
       "1143859   56489   19483       0  \n",
       "\n",
       "[1143860 rows x 11 columns]"
      ]
     },
     "execution_count": 27,
     "metadata": {},
     "output_type": "execute_result"
    }
   ],
   "source": [
    "df"
   ]
  },
  {
   "cell_type": "code",
   "execution_count": 28,
   "metadata": {},
   "outputs": [
    {
     "data": {
      "image/png": "[encoded data removed]",
      "text/plain": [
       "<Figure size 1080x720 with 2 Axes>"
      ]
     },
     "metadata": {
      "needs_background": "light"
     },
     "output_type": "display_data"
    }
   ],
   "source": [
    "#Cмотрим на графике кол-во пропусков (желтый цвет)\n",
    "fig= plt.figure(figsize=(15,10))\n",
    "sns.heatmap(df.isnull(), cmap=sns.color_palette(['#000099', '#ffff00']))\n",
    "plt.show()"
   ]
  },
  {
   "cell_type": "markdown",
   "metadata": {},
   "source": [
    "Признаки vote, style, image имеют большое кол-во пропусков, таким образом не сыграют роль в обучении модели. Пары признаков: reviewTime, unixReviewTime; itemid, asin; reviewName, userid являются идентичными. Таким образом в датасете остается 4 значимых признака (verified, unixReviewTime, userid, itemid) и целевой rating."
   ]
  },
  {
   "cell_type": "code",
   "execution_count": 136,
   "metadata": {},
   "outputs": [],
   "source": [
    "train_data, test_data = train_test_split(train,random_state=32, shuffle=True)"
   ]
  },
  {
   "cell_type": "code",
   "execution_count": 137,
   "metadata": {},
   "outputs": [],
   "source": [
    "ratings_coo = sparse.coo_matrix((train_data['rating'].astype(int),\n",
    "                                 (train_data['userid'],\n",
    "                                  train_data['itemid'])))"
   ]
  },
  {
   "cell_type": "code",
   "execution_count": 34,
   "metadata": {},
   "outputs": [],
   "source": [
    "def selection_of_hyperparameters(user_features, item_features):\n",
    "    for num in [5, 10, 15, 20, 25, 30]:\n",
    "        for rate in [0.01, 0.02, 0.05, 0.1, 0.2, 0.3, 0.5]:\n",
    "            model = LightFM(learning_rate=rate, loss='logistic',\n",
    "                        no_components=NUM_COMPONENTS)\n",
    "            model = model.fit(ratings_coo,user_features, item_features, epochs=num, \n",
    "                          num_threads=NUM_THREADS)\n",
    "            preds = model.predict(test_data.userid.values,\n",
    "                              test_data.itemid.values)\n",
    "            print(f'При NUM_EPOCHS ={num} и learning_rate = {rate} ROC AUC = ', sklearn.metrics.roc_auc_score(test_data.rating,preds))"
   ]
  },
  {
   "cell_type": "code",
   "execution_count": 18,
   "metadata": {},
   "outputs": [
    {
     "name": "stdout",
     "output_type": "stream",
     "text": [
      "При NUM_EPOCHS =5 и learning_rate = 0.01 ROC AUC =  0.6168872004418112\n",
      "При NUM_EPOCHS =5 и learning_rate = 0.02 ROC AUC =  0.6243380844476099\n",
      "При NUM_EPOCHS =5 и learning_rate = 0.05 ROC AUC =  0.6614277579785074\n",
      "При NUM_EPOCHS =5 и learning_rate = 0.1 ROC AUC =  0.7092769359156184\n",
      "При NUM_EPOCHS =5 и learning_rate = 0.2 ROC AUC =  0.7475415746247824\n",
      "При NUM_EPOCHS =5 и learning_rate = 0.3 ROC AUC =  0.7550025039319042\n",
      "При NUM_EPOCHS =5 и learning_rate = 0.5 ROC AUC =  0.7489769005934275\n",
      "При NUM_EPOCHS =10 и learning_rate = 0.01 ROC AUC =  0.6242835155985195\n",
      "При NUM_EPOCHS =10 и learning_rate = 0.02 ROC AUC =  0.6394186161291531\n",
      "При NUM_EPOCHS =10 и learning_rate = 0.05 ROC AUC =  0.7024450274376175\n",
      "При NUM_EPOCHS =10 и learning_rate = 0.1 ROC AUC =  0.7426601066420386\n",
      "При NUM_EPOCHS =10 и learning_rate = 0.2 ROC AUC =  0.749412225693705\n",
      "При NUM_EPOCHS =10 и learning_rate = 0.3 ROC AUC =  0.7453611079630547\n",
      "При NUM_EPOCHS =10 и learning_rate = 0.5 ROC AUC =  0.7404507098799384\n",
      "При NUM_EPOCHS =15 и learning_rate = 0.01 ROC AUC =  0.6294568192333653\n",
      "При NUM_EPOCHS =15 и learning_rate = 0.02 ROC AUC =  0.6637404312961723\n",
      "При NUM_EPOCHS =15 и learning_rate = 0.05 ROC AUC =  0.7241430482777762\n",
      "При NUM_EPOCHS =15 и learning_rate = 0.1 ROC AUC =  0.7494637282890866\n",
      "При NUM_EPOCHS =15 и learning_rate = 0.2 ROC AUC =  0.7444430519328749\n",
      "При NUM_EPOCHS =15 и learning_rate = 0.3 ROC AUC =  0.7382164266058344\n",
      "При NUM_EPOCHS =15 и learning_rate = 0.5 ROC AUC =  0.7372496834322274\n",
      "При NUM_EPOCHS =20 и learning_rate = 0.01 ROC AUC =  0.6360688815173219\n",
      "При NUM_EPOCHS =20 и learning_rate = 0.02 ROC AUC =  0.6802577040885187\n",
      "При NUM_EPOCHS =20 и learning_rate = 0.05 ROC AUC =  0.7360442926132873\n",
      "При NUM_EPOCHS =20 и learning_rate = 0.1 ROC AUC =  0.7465529894499864\n",
      "При NUM_EPOCHS =20 и learning_rate = 0.2 ROC AUC =  0.7387981257958387\n",
      "При NUM_EPOCHS =20 и learning_rate = 0.3 ROC AUC =  0.7364309072260227\n",
      "При NUM_EPOCHS =20 и learning_rate = 0.5 ROC AUC =  0.7362385955419427\n",
      "При NUM_EPOCHS =25 и learning_rate = 0.01 ROC AUC =  0.6485073974840478\n",
      "При NUM_EPOCHS =25 и learning_rate = 0.02 ROC AUC =  0.6931099129142686\n",
      "При NUM_EPOCHS =25 и learning_rate = 0.05 ROC AUC =  0.7425890629998716\n",
      "При NUM_EPOCHS =25 и learning_rate = 0.1 ROC AUC =  0.7430351616198734\n",
      "При NUM_EPOCHS =25 и learning_rate = 0.2 ROC AUC =  0.7352504700018138\n",
      "При NUM_EPOCHS =25 и learning_rate = 0.3 ROC AUC =  0.7347619563048436\n",
      "При NUM_EPOCHS =25 и learning_rate = 0.5 ROC AUC =  0.7314620956782103\n",
      "При NUM_EPOCHS =30 и learning_rate = 0.01 ROC AUC =  0.6583912713871231\n",
      "При NUM_EPOCHS =30 и learning_rate = 0.02 ROC AUC =  0.7033226019914527\n",
      "При NUM_EPOCHS =30 и learning_rate = 0.05 ROC AUC =  0.7438217033957342\n",
      "При NUM_EPOCHS =30 и learning_rate = 0.1 ROC AUC =  0.7389491366841328\n",
      "При NUM_EPOCHS =30 и learning_rate = 0.2 ROC AUC =  0.7343544028637699\n",
      "При NUM_EPOCHS =30 и learning_rate = 0.3 ROC AUC =  0.7319166869209309\n",
      "При NUM_EPOCHS =30 и learning_rate = 0.5 ROC AUC =  0.7317758451336166\n"
     ]
    }
   ],
   "source": [
    "selection_of_hyperparameters(None, None)"
   ]
  },
  {
   "cell_type": "markdown",
   "metadata": {},
   "source": [
    "Наилучший результат При NUM_EPOCHS =5 и learning_rate = :0.3 ROC AUC =  0.7549646550312343"
   ]
  },
  {
   "cell_type": "code",
   "execution_count": 138,
   "metadata": {},
   "outputs": [],
   "source": [
    "NUM_THREADS = 8 #число потоков\n",
    "NUM_COMPONENTS = 35 #число параметров вектора \n",
    "NUM_EPOCHS = 5 #число эпох обучения\n",
    "\n",
    "model = LightFM(learning_rate=0.33, loss='logistic',\n",
    "                no_components=NUM_COMPONENTS)\n",
    "model = model.fit(ratings_coo, epochs=NUM_EPOCHS, \n",
    "                  num_threads=NUM_THREADS)"
   ]
  },
  {
   "cell_type": "code",
   "execution_count": 139,
   "metadata": {},
   "outputs": [],
   "source": [
    "preds = model.predict(test_data.userid.values,\n",
    "                      test_data.itemid.values)"
   ]
  },
  {
   "cell_type": "code",
   "execution_count": 140,
   "metadata": {},
   "outputs": [
    {
     "data": {
      "text/plain": [
       "array([22375, 80565, 55565, ..., 81334, 84738, 32096])"
      ]
     },
     "execution_count": 140,
     "metadata": {},
     "output_type": "execute_result"
    }
   ],
   "source": [
    "test_data.userid.values"
   ]
  },
  {
   "cell_type": "code",
   "execution_count": 141,
   "metadata": {},
   "outputs": [
    {
     "data": {
      "text/plain": [
       "0.7551798547351114"
      ]
     },
     "execution_count": 141,
     "metadata": {},
     "output_type": "execute_result"
    }
   ],
   "source": [
    "sklearn.metrics.roc_auc_score(test_data.rating,preds)"
   ]
  },
  {
   "cell_type": "code",
   "execution_count": 143,
   "metadata": {},
   "outputs": [],
   "source": [
    "with open('model.pickle', 'wb') as file:\n",
    "    pickle.dump(model, file, protocol=pickle.HIGHEST_PROTOCOL)"
   ]
  },
  {
   "cell_type": "markdown",
   "metadata": {},
   "source": [
    "### Улучшение модели"
   ]
  },
  {
   "cell_type": "code",
   "execution_count": 40,
   "metadata": {},
   "outputs": [],
   "source": [
    "def st(x):\n",
    "    try:\n",
    "        return x[1:-1].replace(' ', '').split(',')\n",
    "    except:\n",
    "        return 0"
   ]
  },
  {
   "cell_type": "code",
   "execution_count": 41,
   "metadata": {},
   "outputs": [],
   "source": [
    "train['styles'] = train['style'].apply(st)"
   ]
  },
  {
   "cell_type": "code",
   "execution_count": 66,
   "metadata": {},
   "outputs": [],
   "source": [
    "class New_features():\n",
    "    \n",
    "    def size(x):\n",
    "        if x != 0:\n",
    "            for item in x:\n",
    "                if 'Size' in item:\n",
    "                    return item\n",
    "            \n",
    "    def flavor(x):\n",
    "        if x != 0:\n",
    "            for item in x:\n",
    "                if 'Flavor' in item:\n",
    "                    return item\n",
    "                \n",
    "    def package_type(x):\n",
    "        if x != 0:\n",
    "            for item in x:\n",
    "                if 'PackageType' in item:\n",
    "                    return item\n",
    "            \n",
    "    def package_quantity(x):\n",
    "        if x != 0:\n",
    "            for item in x:\n",
    "                if 'PackageQuantity' in item:\n",
    "                    return item\n",
    "            \n",
    "    def color(x):\n",
    "        if x != 0:\n",
    "            for item in x:\n",
    "                if 'Color' in item:\n",
    "                    return item\n",
    "                \n",
    "    def format_(x):\n",
    "        if x != 0:\n",
    "            for item in x:\n",
    "                if 'Format' in item:\n",
    "                    return item\n",
    "        \n",
    "    def style_name(x):\n",
    "        if x != 0:\n",
    "            for item in x:\n",
    "                if 'StyleName' in item:\n",
    "                    return item"
   ]
  },
  {
   "cell_type": "code",
   "execution_count": 53,
   "metadata": {},
   "outputs": [],
   "source": [
    "train['size'] = train['styles'].apply(New_features.size)\n",
    "\n",
    "train['flavor'] = train.styles.apply(New_features.flavor)\n",
    "\n",
    "train['PackageType'] = train.styles.apply(New_features.package_type)\n",
    "\n",
    "train['PackageQuantity'] = train.styles.apply(New_features.package_quantity)\n",
    "\n",
    "train['Color'] = train.styles.apply(New_features.color)\n",
    "\n",
    "train['Format'] = train.styles.apply(New_features.format_)\n",
    "\n",
    "train['StyleName'] = train.styles.apply(New_features.style_name)\n",
    "\n",
    "dict_size = dict(zip(train['size'].value_counts()[0:500].index, [x for x in range(1,501)]))\n",
    "\n",
    "dict_flavor = dict(zip(train['flavor'].value_counts()[0:500].index, [x for x in range(501,1001)]))\n",
    "\n",
    "dict_PackageType = dict(zip(train['PackageType'].value_counts().index, [x for x in range(1001, 1005)]))\n",
    "\n",
    "dict_PackageQuantity = dict(zip(train['PackageQuantity'].value_counts().index, [x for x in range(1005, 1027)]))\n",
    "\n",
    "dict_Color = dict(zip(train['Color'].value_counts()[0:50].index, [x for x in range(1027, 1077)]))\n",
    "\n",
    "dict_Format = dict(zip(train['Format'].value_counts()[0:6].index, [x for x in range(1077, 1083)]))\n",
    "\n",
    "dict_StyleName = dict(zip(train['StyleName'].value_counts()[0:10].index, [x for x in range(1083, 1093)]))\n",
    "\n",
    "dict_total = {**dict_size, **dict_flavor,**dict_PackageType,**dict_PackageQuantity,**dict_Color,**dict_Format,**dict_StyleName}"
   ]
  },
  {
   "cell_type": "code",
   "execution_count": 122,
   "metadata": {},
   "outputs": [
    {
     "data": {
      "text/plain": [
       "1092"
      ]
     },
     "execution_count": 122,
     "metadata": {},
     "output_type": "execute_result"
    }
   ],
   "source": [
    "dict_total[\"'StyleName:':'ACLASS'\"]"
   ]
  },
  {
   "cell_type": "code",
   "execution_count": 121,
   "metadata": {},
   "outputs": [
    {
     "data": {
      "text/plain": [
       "{\"'StyleName:':'0'\": 1083,\n",
       " \"'StyleName:':'White'\": 1084,\n",
       " \"'StyleName:':'Spaghetti'\": 1085,\n",
       " \"'StyleName:':'BrightWhite'\": 1086,\n",
       " \"'StyleName:':'Penne'\": 1087,\n",
       " \"'StyleName:':'WiltonColorRightPerformanceColorSystem'\": 1088,\n",
       " \"'StyleName:':'Pouch'\": 1089,\n",
       " \"'StyleName:':'SinglesSizeVariety'\": 1090,\n",
       " \"'StyleName:':'FunSize'\": 1091,\n",
       " \"'StyleName:':'ACLASS'\": 1092}"
      ]
     },
     "execution_count": 121,
     "metadata": {},
     "output_type": "execute_result"
    }
   ],
   "source": [
    "dict_StyleName"
   ]
  },
  {
   "cell_type": "code",
   "execution_count": 80,
   "metadata": {},
   "outputs": [],
   "source": [
    "df = pd.DataFrame([], columns=['itemid', 'tags'])"
   ]
  },
  {
   "cell_type": "code",
   "execution_count": 82,
   "metadata": {},
   "outputs": [
    {
     "name": "stdout",
     "output_type": "stream",
     "text": [
      "99.9998834356185744653\r"
     ]
    }
   ],
   "source": [
    "for i in range(0, len(train)):\n",
    "    for col in ['size','flavor','PackageType','PackageQuantity','Color','Format','StyleName']:\n",
    "        x = train.loc[i][col]\n",
    "        if x != None and x in dict_total:\n",
    "            df.loc[len(df)] = [train.loc[i]['itemid'], dict_total[x]]\n",
    "    print(i/len(train)*100, end='\\r')"
   ]
  },
  {
   "cell_type": "code",
   "execution_count": 83,
   "metadata": {},
   "outputs": [],
   "source": [
    "with open('df_features.pickle', 'wb') as file:\n",
    "    pickle.dump(df, file, protocol=pickle.HIGHEST_PROTOCOL)"
   ]
  },
  {
   "cell_type": "code",
   "execution_count": 85,
   "metadata": {},
   "outputs": [],
   "source": []
  },
  {
   "cell_type": "code",
   "execution_count": 129,
   "metadata": {},
   "outputs": [
    {
     "data": {
      "text/plain": [
       "(41319, 1093)"
      ]
     },
     "execution_count": 129,
     "metadata": {},
     "output_type": "execute_result"
    }
   ],
   "source": [
    "feature = sparse.coo_matrix(([1]*len(df),(df.itemid, df.tags)))\n",
    "feature.shape"
   ]
  },
  {
   "cell_type": "code",
   "execution_count": 131,
   "metadata": {},
   "outputs": [],
   "source": [
    "train_data, test_data = train_test_split(train,random_state=32, shuffle=True)"
   ]
  },
  {
   "cell_type": "code",
   "execution_count": 134,
   "metadata": {},
   "outputs": [
    {
     "data": {
      "text/plain": [
       "(127496, 41320)"
      ]
     },
     "execution_count": 134,
     "metadata": {},
     "output_type": "execute_result"
    }
   ],
   "source": [
    "ratings_coo = sparse.coo_matrix((train_data['rating'].astype(int),\n",
    "                                 (train_data['userid'],\n",
    "                                  train_data['itemid'])))\n",
    "ratings_coo.shape"
   ]
  },
  {
   "cell_type": "code",
   "execution_count": 135,
   "metadata": {},
   "outputs": [
    {
     "ename": "Exception",
     "evalue": "Number of item feature rows does not equal the number of items",
     "output_type": "error",
     "traceback": [
      "\u001b[0;31m---------------------------------------------------------------------------\u001b[0m",
      "\u001b[0;31mException\u001b[0m                                 Traceback (most recent call last)",
      "\u001b[0;32m<ipython-input-135-4dadd7000c66>\u001b[0m in \u001b[0;36m<module>\u001b[0;34m\u001b[0m\n\u001b[1;32m      5\u001b[0m model = LightFM(learning_rate=0.33, loss='logistic',\n\u001b[1;32m      6\u001b[0m                 no_components=NUM_COMPONENTS)\n\u001b[0;32m----> 7\u001b[0;31m model = model.fit(ratings_coo, epochs=NUM_EPOCHS, \n\u001b[0m\u001b[1;32m      8\u001b[0m                   num_threads=NUM_THREADS, item_features = feature)\n",
      "\u001b[0;32m~/anaconda3/envs/project/env/lib/python3.8/site-packages/lightfm/lightfm.py\u001b[0m in \u001b[0;36mfit\u001b[0;34m(self, interactions, user_features, item_features, sample_weight, epochs, num_threads, verbose)\u001b[0m\n\u001b[1;32m    471\u001b[0m         \u001b[0mself\u001b[0m\u001b[0;34m.\u001b[0m\u001b[0m_reset_state\u001b[0m\u001b[0;34m(\u001b[0m\u001b[0;34m)\u001b[0m\u001b[0;34m\u001b[0m\u001b[0;34m\u001b[0m\u001b[0m\n\u001b[1;32m    472\u001b[0m \u001b[0;34m\u001b[0m\u001b[0m\n\u001b[0;32m--> 473\u001b[0;31m         return self.fit_partial(interactions,\n\u001b[0m\u001b[1;32m    474\u001b[0m                                 \u001b[0muser_features\u001b[0m\u001b[0;34m=\u001b[0m\u001b[0muser_features\u001b[0m\u001b[0;34m,\u001b[0m\u001b[0;34m\u001b[0m\u001b[0;34m\u001b[0m\u001b[0m\n\u001b[1;32m    475\u001b[0m                                 \u001b[0mitem_features\u001b[0m\u001b[0;34m=\u001b[0m\u001b[0mitem_features\u001b[0m\u001b[0;34m,\u001b[0m\u001b[0;34m\u001b[0m\u001b[0;34m\u001b[0m\u001b[0m\n",
      "\u001b[0;32m~/anaconda3/envs/project/env/lib/python3.8/site-packages/lightfm/lightfm.py\u001b[0m in \u001b[0;36mfit_partial\u001b[0;34m(self, interactions, user_features, item_features, sample_weight, epochs, num_threads, verbose)\u001b[0m\n\u001b[1;32m    539\u001b[0m         \u001b[0mn_users\u001b[0m\u001b[0;34m,\u001b[0m \u001b[0mn_items\u001b[0m \u001b[0;34m=\u001b[0m \u001b[0minteractions\u001b[0m\u001b[0;34m.\u001b[0m\u001b[0mshape\u001b[0m\u001b[0;34m\u001b[0m\u001b[0;34m\u001b[0m\u001b[0m\n\u001b[1;32m    540\u001b[0m         (user_features,\n\u001b[0;32m--> 541\u001b[0;31m          \u001b[0mitem_features\u001b[0m\u001b[0;34m)\u001b[0m \u001b[0;34m=\u001b[0m \u001b[0mself\u001b[0m\u001b[0;34m.\u001b[0m\u001b[0m_construct_feature_matrices\u001b[0m\u001b[0;34m(\u001b[0m\u001b[0mn_users\u001b[0m\u001b[0;34m,\u001b[0m\u001b[0;34m\u001b[0m\u001b[0;34m\u001b[0m\u001b[0m\n\u001b[0m\u001b[1;32m    542\u001b[0m                                                            \u001b[0mn_items\u001b[0m\u001b[0;34m,\u001b[0m\u001b[0;34m\u001b[0m\u001b[0;34m\u001b[0m\u001b[0m\n\u001b[1;32m    543\u001b[0m                                                            \u001b[0muser_features\u001b[0m\u001b[0;34m,\u001b[0m\u001b[0;34m\u001b[0m\u001b[0;34m\u001b[0m\u001b[0m\n",
      "\u001b[0;32m~/anaconda3/envs/project/env/lib/python3.8/site-packages/lightfm/lightfm.py\u001b[0m in \u001b[0;36m_construct_feature_matrices\u001b[0;34m(self, n_users, n_items, user_features, item_features)\u001b[0m\n\u001b[1;32m    296\u001b[0m \u001b[0;34m\u001b[0m\u001b[0m\n\u001b[1;32m    297\u001b[0m         \u001b[0;32mif\u001b[0m \u001b[0mn_items\u001b[0m \u001b[0;34m>\u001b[0m \u001b[0mitem_features\u001b[0m\u001b[0;34m.\u001b[0m\u001b[0mshape\u001b[0m\u001b[0;34m[\u001b[0m\u001b[0;36m0\u001b[0m\u001b[0;34m]\u001b[0m\u001b[0;34m:\u001b[0m\u001b[0;34m\u001b[0m\u001b[0;34m\u001b[0m\u001b[0m\n\u001b[0;32m--> 298\u001b[0;31m             raise Exception('Number of item feature rows does not equal '\n\u001b[0m\u001b[1;32m    299\u001b[0m                             'the number of items')\n\u001b[1;32m    300\u001b[0m \u001b[0;34m\u001b[0m\u001b[0m\n",
      "\u001b[0;31mException\u001b[0m: Number of item feature rows does not equal the number of items"
     ]
    }
   ],
   "source": [
    "NUM_THREADS = 8 #число потоков\n",
    "NUM_COMPONENTS = 35 #число параметров вектора \n",
    "NUM_EPOCHS = 5 #число эпох обучения\n",
    "\n",
    "model = LightFM(learning_rate=0.33, loss='logistic',\n",
    "                no_components=NUM_COMPONENTS)\n",
    "model = model.fit(ratings_coo, epochs=NUM_EPOCHS, \n",
    "                  num_threads=NUM_THREADS, item_features = feature)"
   ]
  },
  {
   "cell_type": "code",
   "execution_count": null,
   "metadata": {},
   "outputs": [],
   "source": [
    "#Надо пофиксить."
   ]
  },
  {
   "cell_type": "markdown",
   "metadata": {},
   "source": [
    "### Submission"
   ]
  },
  {
   "cell_type": "code",
   "execution_count": 144,
   "metadata": {},
   "outputs": [],
   "source": [
    "with open('model.pickle', 'rb') as file:\n",
    "    model = pickle.load(file)"
   ]
  },
  {
   "cell_type": "code",
   "execution_count": 145,
   "metadata": {},
   "outputs": [],
   "source": [
    "preds = model.predict(test.userid.values,\n",
    "                      test.itemid.values)"
   ]
  },
  {
   "cell_type": "code",
   "execution_count": 146,
   "metadata": {},
   "outputs": [
    {
     "data": {
      "text/plain": [
       "(-18.120452880859375, 18.808809280395508)"
      ]
     },
     "execution_count": 146,
     "metadata": {},
     "output_type": "execute_result"
    }
   ],
   "source": [
    "preds.min(), preds.max()"
   ]
  },
  {
   "cell_type": "code",
   "execution_count": 147,
   "metadata": {},
   "outputs": [],
   "source": [
    "normalized_preds = (preds - preds.min())/(preds - preds.min()).max()"
   ]
  },
  {
   "cell_type": "code",
   "execution_count": 148,
   "metadata": {},
   "outputs": [
    {
     "data": {
      "text/plain": [
       "(0.0, 1.0)"
      ]
     },
     "execution_count": 148,
     "metadata": {},
     "output_type": "execute_result"
    }
   ],
   "source": [
    "normalized_preds.min(), normalized_preds.max()"
   ]
  },
  {
   "cell_type": "code",
   "execution_count": 149,
   "metadata": {},
   "outputs": [],
   "source": [
    "submission['rating']= normalized_preds"
   ]
  },
  {
   "cell_type": "code",
   "execution_count": 150,
   "metadata": {},
   "outputs": [
    {
     "data": {
      "text/html": [
       "<div>\n",
       "<style scoped>\n",
       "    .dataframe tbody tr th:only-of-type {\n",
       "        vertical-align: middle;\n",
       "    }\n",
       "\n",
       "    .dataframe tbody tr th {\n",
       "        vertical-align: top;\n",
       "    }\n",
       "\n",
       "    .dataframe thead th {\n",
       "        text-align: right;\n",
       "    }\n",
       "</style>\n",
       "<table border=\"1\" class=\"dataframe\">\n",
       "  <thead>\n",
       "    <tr style=\"text-align: right;\">\n",
       "      <th></th>\n",
       "      <th>Id</th>\n",
       "      <th>rating</th>\n",
       "    </tr>\n",
       "  </thead>\n",
       "  <tbody>\n",
       "    <tr>\n",
       "      <th>0</th>\n",
       "      <td>0</td>\n",
       "      <td>0.559034</td>\n",
       "    </tr>\n",
       "    <tr>\n",
       "      <th>1</th>\n",
       "      <td>1</td>\n",
       "      <td>0.545435</td>\n",
       "    </tr>\n",
       "    <tr>\n",
       "      <th>2</th>\n",
       "      <td>2</td>\n",
       "      <td>0.506322</td>\n",
       "    </tr>\n",
       "    <tr>\n",
       "      <th>3</th>\n",
       "      <td>3</td>\n",
       "      <td>0.496739</td>\n",
       "    </tr>\n",
       "    <tr>\n",
       "      <th>4</th>\n",
       "      <td>4</td>\n",
       "      <td>0.508745</td>\n",
       "    </tr>\n",
       "    <tr>\n",
       "      <th>...</th>\n",
       "      <td>...</td>\n",
       "      <td>...</td>\n",
       "    </tr>\n",
       "    <tr>\n",
       "      <th>285960</th>\n",
       "      <td>285960</td>\n",
       "      <td>0.554123</td>\n",
       "    </tr>\n",
       "    <tr>\n",
       "      <th>285961</th>\n",
       "      <td>285961</td>\n",
       "      <td>0.396806</td>\n",
       "    </tr>\n",
       "    <tr>\n",
       "      <th>285962</th>\n",
       "      <td>285962</td>\n",
       "      <td>0.502390</td>\n",
       "    </tr>\n",
       "    <tr>\n",
       "      <th>285963</th>\n",
       "      <td>285963</td>\n",
       "      <td>0.557439</td>\n",
       "    </tr>\n",
       "    <tr>\n",
       "      <th>285964</th>\n",
       "      <td>285964</td>\n",
       "      <td>0.582784</td>\n",
       "    </tr>\n",
       "  </tbody>\n",
       "</table>\n",
       "<p>285965 rows × 2 columns</p>\n",
       "</div>"
      ],
      "text/plain": [
       "            Id    rating\n",
       "0            0  0.559034\n",
       "1            1  0.545435\n",
       "2            2  0.506322\n",
       "3            3  0.496739\n",
       "4            4  0.508745\n",
       "...        ...       ...\n",
       "285960  285960  0.554123\n",
       "285961  285961  0.396806\n",
       "285962  285962  0.502390\n",
       "285963  285963  0.557439\n",
       "285964  285964  0.582784\n",
       "\n",
       "[285965 rows x 2 columns]"
      ]
     },
     "execution_count": 150,
     "metadata": {},
     "output_type": "execute_result"
    }
   ],
   "source": [
    "submission"
   ]
  },
  {
   "cell_type": "code",
   "execution_count": 112,
   "metadata": {},
   "outputs": [],
   "source": [
    "submission.to_csv('submission2.csv', index = False)"
   ]
  },
  {
   "cell_type": "code",
   "execution_count": 151,
   "metadata": {},
   "outputs": [],
   "source": [
    "# Достаём эбмеддинги\n",
    "\n",
    "item_biases, item_embeddings = model.get_item_representations()"
   ]
  },
  {
   "cell_type": "code",
   "execution_count": 153,
   "metadata": {},
   "outputs": [],
   "source": [
    "import nmslib\n",
    " \n",
    "#Создаём наш граф для поиска\n",
    "nms_idx = nmslib.init(method='hnsw', space='cosinesimil')\n",
    " \n",
    "#Начинаем добавлять наши книги в граф\n",
    "nms_idx.addDataPointBatch(item_embeddings)\n",
    "nms_idx.createIndex(print_progress=True)"
   ]
  },
  {
   "cell_type": "code",
   "execution_count": 154,
   "metadata": {},
   "outputs": [],
   "source": [
    "#Вспомогательная функция для поиска по графу\n",
    "def nearest_books_nms(itemid, index, n=10):\n",
    "    nn = index.knnQuery(item_embeddings[itemid], k=n)\n",
    "    return nn"
   ]
  },
  {
   "cell_type": "code",
   "execution_count": 172,
   "metadata": {},
   "outputs": [
    {
     "data": {
      "text/html": [
       "<div>\n",
       "<style scoped>\n",
       "    .dataframe tbody tr th:only-of-type {\n",
       "        vertical-align: middle;\n",
       "    }\n",
       "\n",
       "    .dataframe tbody tr th {\n",
       "        vertical-align: top;\n",
       "    }\n",
       "\n",
       "    .dataframe thead th {\n",
       "        text-align: right;\n",
       "    }\n",
       "</style>\n",
       "<table border=\"1\" class=\"dataframe\">\n",
       "  <thead>\n",
       "    <tr style=\"text-align: right;\">\n",
       "      <th></th>\n",
       "      <th>overall</th>\n",
       "      <th>verified</th>\n",
       "      <th>reviewTime</th>\n",
       "      <th>asin</th>\n",
       "      <th>reviewerName</th>\n",
       "      <th>reviewText</th>\n",
       "      <th>summary</th>\n",
       "      <th>unixReviewTime</th>\n",
       "      <th>vote</th>\n",
       "      <th>style</th>\n",
       "      <th>...</th>\n",
       "      <th>rating</th>\n",
       "      <th>sample</th>\n",
       "      <th>styles</th>\n",
       "      <th>size</th>\n",
       "      <th>flavor</th>\n",
       "      <th>PackageType</th>\n",
       "      <th>PackageQuantity</th>\n",
       "      <th>Color</th>\n",
       "      <th>Format</th>\n",
       "      <th>StyleName</th>\n",
       "    </tr>\n",
       "  </thead>\n",
       "  <tbody>\n",
       "    <tr>\n",
       "      <th>0</th>\n",
       "      <td>5.0</td>\n",
       "      <td>True</td>\n",
       "      <td>10 4, 2016</td>\n",
       "      <td>B01CPNIEQG</td>\n",
       "      <td>Heather</td>\n",
       "      <td>These are my FAVORITE spices in my collection....</td>\n",
       "      <td>Must Add to your Spice kitchen!</td>\n",
       "      <td>1475539200</td>\n",
       "      <td>NaN</td>\n",
       "      <td>NaN</td>\n",
       "      <td>...</td>\n",
       "      <td>1.0</td>\n",
       "      <td>1</td>\n",
       "      <td>0</td>\n",
       "      <td>None</td>\n",
       "      <td>None</td>\n",
       "      <td>None</td>\n",
       "      <td>None</td>\n",
       "      <td>None</td>\n",
       "      <td>None</td>\n",
       "      <td>None</td>\n",
       "    </tr>\n",
       "    <tr>\n",
       "      <th>1</th>\n",
       "      <td>5.0</td>\n",
       "      <td>True</td>\n",
       "      <td>03 1, 2016</td>\n",
       "      <td>B006F63M8U</td>\n",
       "      <td>Linda Odom</td>\n",
       "      <td>Add A package to my Coffee and it makes a good...</td>\n",
       "      <td>Milk Chocolate Swiis MIss Hot Cocoa Mix</td>\n",
       "      <td>1456790400</td>\n",
       "      <td>NaN</td>\n",
       "      <td>{'Size:': ' 60-0.73 oz Envelopes'}</td>\n",
       "      <td>...</td>\n",
       "      <td>1.0</td>\n",
       "      <td>1</td>\n",
       "      <td>['Size:':'60-0.73ozEnvelopes']</td>\n",
       "      <td>'Size:':'60-0.73ozEnvelopes'</td>\n",
       "      <td>None</td>\n",
       "      <td>None</td>\n",
       "      <td>None</td>\n",
       "      <td>None</td>\n",
       "      <td>None</td>\n",
       "      <td>None</td>\n",
       "    </tr>\n",
       "    <tr>\n",
       "      <th>2</th>\n",
       "      <td>5.0</td>\n",
       "      <td>True</td>\n",
       "      <td>06 26, 2016</td>\n",
       "      <td>B00112O8NG</td>\n",
       "      <td>DesertBlossom</td>\n",
       "      <td>I love the Torani syrups, but not the prices o...</td>\n",
       "      <td>Love these sugar free syrups, but didn't love ...</td>\n",
       "      <td>1466899200</td>\n",
       "      <td>28</td>\n",
       "      <td>NaN</td>\n",
       "      <td>...</td>\n",
       "      <td>1.0</td>\n",
       "      <td>1</td>\n",
       "      <td>0</td>\n",
       "      <td>None</td>\n",
       "      <td>None</td>\n",
       "      <td>None</td>\n",
       "      <td>None</td>\n",
       "      <td>None</td>\n",
       "      <td>None</td>\n",
       "      <td>None</td>\n",
       "    </tr>\n",
       "    <tr>\n",
       "      <th>3</th>\n",
       "      <td>5.0</td>\n",
       "      <td>True</td>\n",
       "      <td>09 5, 2013</td>\n",
       "      <td>B00MRAQUM8</td>\n",
       "      <td>Connie L. Reaves</td>\n",
       "      <td>Very fragrant. The price can't be beat. I do l...</td>\n",
       "      <td>Nice !</td>\n",
       "      <td>1378339200</td>\n",
       "      <td>NaN</td>\n",
       "      <td>NaN</td>\n",
       "      <td>...</td>\n",
       "      <td>1.0</td>\n",
       "      <td>1</td>\n",
       "      <td>0</td>\n",
       "      <td>None</td>\n",
       "      <td>None</td>\n",
       "      <td>None</td>\n",
       "      <td>None</td>\n",
       "      <td>None</td>\n",
       "      <td>None</td>\n",
       "      <td>None</td>\n",
       "    </tr>\n",
       "    <tr>\n",
       "      <th>4</th>\n",
       "      <td>5.0</td>\n",
       "      <td>True</td>\n",
       "      <td>09 14, 2016</td>\n",
       "      <td>B000R7RN0G</td>\n",
       "      <td>Mike P.</td>\n",
       "      <td>These are my favorite jalapeno chips so far. T...</td>\n",
       "      <td>These are my favorite jalapeno chips so far</td>\n",
       "      <td>1473811200</td>\n",
       "      <td>NaN</td>\n",
       "      <td>{'Flavor:': ' Jalapeo'}</td>\n",
       "      <td>...</td>\n",
       "      <td>1.0</td>\n",
       "      <td>1</td>\n",
       "      <td>['Flavor:':'Jalapeo']</td>\n",
       "      <td>None</td>\n",
       "      <td>'Flavor:':'Jalapeo'</td>\n",
       "      <td>None</td>\n",
       "      <td>None</td>\n",
       "      <td>None</td>\n",
       "      <td>None</td>\n",
       "      <td>None</td>\n",
       "    </tr>\n",
       "  </tbody>\n",
       "</table>\n",
       "<p>5 rows × 23 columns</p>\n",
       "</div>"
      ],
      "text/plain": [
       "   overall  verified   reviewTime        asin      reviewerName  \\\n",
       "0      5.0      True   10 4, 2016  B01CPNIEQG           Heather   \n",
       "1      5.0      True   03 1, 2016  B006F63M8U        Linda Odom   \n",
       "2      5.0      True  06 26, 2016  B00112O8NG     DesertBlossom   \n",
       "3      5.0      True   09 5, 2013  B00MRAQUM8  Connie L. Reaves   \n",
       "4      5.0      True  09 14, 2016  B000R7RN0G           Mike P.   \n",
       "\n",
       "                                          reviewText  \\\n",
       "0  These are my FAVORITE spices in my collection....   \n",
       "1  Add A package to my Coffee and it makes a good...   \n",
       "2  I love the Torani syrups, but not the prices o...   \n",
       "3  Very fragrant. The price can't be beat. I do l...   \n",
       "4  These are my favorite jalapeno chips so far. T...   \n",
       "\n",
       "                                             summary  unixReviewTime vote  \\\n",
       "0                    Must Add to your Spice kitchen!      1475539200  NaN   \n",
       "1            Milk Chocolate Swiis MIss Hot Cocoa Mix      1456790400  NaN   \n",
       "2  Love these sugar free syrups, but didn't love ...      1466899200   28   \n",
       "3                                             Nice !      1378339200  NaN   \n",
       "4        These are my favorite jalapeno chips so far      1473811200  NaN   \n",
       "\n",
       "                                style  ... rating  sample  \\\n",
       "0                                 NaN  ...    1.0       1   \n",
       "1  {'Size:': ' 60-0.73 oz Envelopes'}  ...    1.0       1   \n",
       "2                                 NaN  ...    1.0       1   \n",
       "3                                 NaN  ...    1.0       1   \n",
       "4             {'Flavor:': ' Jalapeo'}  ...    1.0       1   \n",
       "\n",
       "                           styles                          size  \\\n",
       "0                               0                          None   \n",
       "1  ['Size:':'60-0.73ozEnvelopes']  'Size:':'60-0.73ozEnvelopes'   \n",
       "2                               0                          None   \n",
       "3                               0                          None   \n",
       "4           ['Flavor:':'Jalapeo']                          None   \n",
       "\n",
       "                flavor PackageType PackageQuantity Color Format StyleName  \n",
       "0                 None        None            None  None   None      None  \n",
       "1                 None        None            None  None   None      None  \n",
       "2                 None        None            None  None   None      None  \n",
       "3                 None        None            None  None   None      None  \n",
       "4  'Flavor:':'Jalapeo'        None            None  None   None      None  \n",
       "\n",
       "[5 rows x 23 columns]"
      ]
     },
     "execution_count": 172,
     "metadata": {},
     "output_type": "execute_result"
    }
   ],
   "source": [
    "train.head()"
   ]
  },
  {
   "cell_type": "code",
   "execution_count": 160,
   "metadata": {},
   "outputs": [
    {
     "data": {
      "text/plain": [
       "\"'Flavor:':'Jalapeo'\""
      ]
     },
     "execution_count": 160,
     "metadata": {},
     "output_type": "execute_result"
    }
   ],
   "source": [
    "train.loc[4].flavor"
   ]
  },
  {
   "cell_type": "code",
   "execution_count": 165,
   "metadata": {},
   "outputs": [
    {
     "data": {
      "text/plain": [
       "4         4349\n",
       "200935    4349\n",
       "Name: itemid, dtype: int64"
      ]
     },
     "execution_count": 165,
     "metadata": {},
     "output_type": "execute_result"
    }
   ],
   "source": [
    "train[train.flavor.str.find('Jalapeo')>=0]['itemid'].head(2)"
   ]
  },
  {
   "cell_type": "code",
   "execution_count": 166,
   "metadata": {},
   "outputs": [],
   "source": [
    "nbm = nearest_books_nms(4349,nms_idx)[0]"
   ]
  },
  {
   "cell_type": "code",
   "execution_count": 169,
   "metadata": {},
   "outputs": [
    {
     "data": {
      "text/html": [
       "<div>\n",
       "<style scoped>\n",
       "    .dataframe tbody tr th:only-of-type {\n",
       "        vertical-align: middle;\n",
       "    }\n",
       "\n",
       "    .dataframe tbody tr th {\n",
       "        vertical-align: top;\n",
       "    }\n",
       "\n",
       "    .dataframe thead th {\n",
       "        text-align: right;\n",
       "    }\n",
       "</style>\n",
       "<table border=\"1\" class=\"dataframe\">\n",
       "  <thead>\n",
       "    <tr style=\"text-align: right;\">\n",
       "      <th></th>\n",
       "      <th>overall</th>\n",
       "      <th>verified</th>\n",
       "      <th>reviewTime</th>\n",
       "      <th>asin</th>\n",
       "      <th>reviewerName</th>\n",
       "      <th>reviewText</th>\n",
       "      <th>summary</th>\n",
       "      <th>unixReviewTime</th>\n",
       "      <th>vote</th>\n",
       "      <th>style</th>\n",
       "      <th>...</th>\n",
       "      <th>rating</th>\n",
       "      <th>sample</th>\n",
       "      <th>styles</th>\n",
       "      <th>size</th>\n",
       "      <th>flavor</th>\n",
       "      <th>PackageType</th>\n",
       "      <th>PackageQuantity</th>\n",
       "      <th>Color</th>\n",
       "      <th>Format</th>\n",
       "      <th>StyleName</th>\n",
       "    </tr>\n",
       "  </thead>\n",
       "  <tbody>\n",
       "    <tr>\n",
       "      <th>4</th>\n",
       "      <td>5.0</td>\n",
       "      <td>True</td>\n",
       "      <td>09 14, 2016</td>\n",
       "      <td>B000R7RN0G</td>\n",
       "      <td>Mike P.</td>\n",
       "      <td>These are my favorite jalapeno chips so far. T...</td>\n",
       "      <td>These are my favorite jalapeno chips so far</td>\n",
       "      <td>1473811200</td>\n",
       "      <td>NaN</td>\n",
       "      <td>{'Flavor:': ' Jalapeo'}</td>\n",
       "      <td>...</td>\n",
       "      <td>1.0</td>\n",
       "      <td>1</td>\n",
       "      <td>['Flavor:':'Jalapeo']</td>\n",
       "      <td>None</td>\n",
       "      <td>'Flavor:':'Jalapeo'</td>\n",
       "      <td>None</td>\n",
       "      <td>None</td>\n",
       "      <td>None</td>\n",
       "      <td>None</td>\n",
       "      <td>None</td>\n",
       "    </tr>\n",
       "    <tr>\n",
       "      <th>202</th>\n",
       "      <td>5.0</td>\n",
       "      <td>True</td>\n",
       "      <td>10 6, 2016</td>\n",
       "      <td>B00HQDVRU6</td>\n",
       "      <td>Agatha Morazzani</td>\n",
       "      <td>Good</td>\n",
       "      <td>Good</td>\n",
       "      <td>1475712000</td>\n",
       "      <td>NaN</td>\n",
       "      <td>NaN</td>\n",
       "      <td>...</td>\n",
       "      <td>1.0</td>\n",
       "      <td>1</td>\n",
       "      <td>0</td>\n",
       "      <td>None</td>\n",
       "      <td>None</td>\n",
       "      <td>None</td>\n",
       "      <td>None</td>\n",
       "      <td>None</td>\n",
       "      <td>None</td>\n",
       "      <td>None</td>\n",
       "    </tr>\n",
       "    <tr>\n",
       "      <th>529</th>\n",
       "      <td>5.0</td>\n",
       "      <td>True</td>\n",
       "      <td>06 18, 2015</td>\n",
       "      <td>B0058AMYTC</td>\n",
       "      <td>Rooster</td>\n",
       "      <td>These are delicious crunchy potato chips. It d...</td>\n",
       "      <td>Yum!</td>\n",
       "      <td>1434585600</td>\n",
       "      <td>NaN</td>\n",
       "      <td>{'Size:': ' 5 Ounce (Pack of 15)', 'Flavor:': ...</td>\n",
       "      <td>...</td>\n",
       "      <td>1.0</td>\n",
       "      <td>1</td>\n",
       "      <td>['Size:':'5Ounce(Packof15)', 'Flavor:':'Unsalt...</td>\n",
       "      <td>'Size:':'5Ounce(Packof15)'</td>\n",
       "      <td>'Flavor:':'Unsalted'</td>\n",
       "      <td>None</td>\n",
       "      <td>None</td>\n",
       "      <td>None</td>\n",
       "      <td>None</td>\n",
       "      <td>None</td>\n",
       "    </tr>\n",
       "    <tr>\n",
       "      <th>2693</th>\n",
       "      <td>4.0</td>\n",
       "      <td>True</td>\n",
       "      <td>03 17, 2017</td>\n",
       "      <td>B00HQDVRU6</td>\n",
       "      <td>Katrina</td>\n",
       "      <td>I didn't expect to like these so much, but my ...</td>\n",
       "      <td>Surprising flavor</td>\n",
       "      <td>1489708800</td>\n",
       "      <td>NaN</td>\n",
       "      <td>NaN</td>\n",
       "      <td>...</td>\n",
       "      <td>1.0</td>\n",
       "      <td>1</td>\n",
       "      <td>0</td>\n",
       "      <td>None</td>\n",
       "      <td>None</td>\n",
       "      <td>None</td>\n",
       "      <td>None</td>\n",
       "      <td>None</td>\n",
       "      <td>None</td>\n",
       "      <td>None</td>\n",
       "    </tr>\n",
       "  </tbody>\n",
       "</table>\n",
       "<p>4 rows × 23 columns</p>\n",
       "</div>"
      ],
      "text/plain": [
       "      overall  verified   reviewTime        asin      reviewerName  \\\n",
       "4         5.0      True  09 14, 2016  B000R7RN0G           Mike P.   \n",
       "202       5.0      True   10 6, 2016  B00HQDVRU6  Agatha Morazzani   \n",
       "529       5.0      True  06 18, 2015  B0058AMYTC           Rooster   \n",
       "2693      4.0      True  03 17, 2017  B00HQDVRU6           Katrina   \n",
       "\n",
       "                                             reviewText  \\\n",
       "4     These are my favorite jalapeno chips so far. T...   \n",
       "202                                                Good   \n",
       "529   These are delicious crunchy potato chips. It d...   \n",
       "2693  I didn't expect to like these so much, but my ...   \n",
       "\n",
       "                                          summary  unixReviewTime vote  \\\n",
       "4     These are my favorite jalapeno chips so far      1473811200  NaN   \n",
       "202                                          Good      1475712000  NaN   \n",
       "529                                          Yum!      1434585600  NaN   \n",
       "2693                            Surprising flavor      1489708800  NaN   \n",
       "\n",
       "                                                  style  ... rating  sample  \\\n",
       "4                               {'Flavor:': ' Jalapeo'}  ...    1.0       1   \n",
       "202                                                 NaN  ...    1.0       1   \n",
       "529   {'Size:': ' 5 Ounce (Pack of 15)', 'Flavor:': ...  ...    1.0       1   \n",
       "2693                                                NaN  ...    1.0       1   \n",
       "\n",
       "                                                 styles  \\\n",
       "4                                 ['Flavor:':'Jalapeo']   \n",
       "202                                                   0   \n",
       "529   ['Size:':'5Ounce(Packof15)', 'Flavor:':'Unsalt...   \n",
       "2693                                                  0   \n",
       "\n",
       "                            size                flavor PackageType  \\\n",
       "4                           None   'Flavor:':'Jalapeo'        None   \n",
       "202                         None                  None        None   \n",
       "529   'Size:':'5Ounce(Packof15)'  'Flavor:':'Unsalted'        None   \n",
       "2693                        None                  None        None   \n",
       "\n",
       "     PackageQuantity Color Format StyleName  \n",
       "4               None  None   None      None  \n",
       "202             None  None   None      None  \n",
       "529             None  None   None      None  \n",
       "2693            None  None   None      None  \n",
       "\n",
       "[4 rows x 23 columns]"
      ]
     },
     "execution_count": 169,
     "metadata": {},
     "output_type": "execute_result"
    }
   ],
   "source": [
    "train[train.itemid.isin(nbm)][:4]"
   ]
  },
  {
   "cell_type": "code",
   "execution_count": 170,
   "metadata": {},
   "outputs": [],
   "source": [
    "with open('item_embeddings.pickle', 'wb') as file:\n",
    "    pickle.dump(item_embeddings, file, protocol=pickle.HIGHEST_PROTOCOL)"
   ]
  },
  {
   "cell_type": "code",
   "execution_count": null,
   "metadata": {},
   "outputs": [],
   "source": [
    "train[train.itemid == 4]['asin'].loc[train[train.itemid == 4]['asin'].index[0]]"
   ]
  },
  {
   "cell_type": "code",
   "execution_count": null,
   "metadata": {},
   "outputs": [],
   "source": []
  }
 ],
 "metadata": {
  "kernelspec": {
   "display_name": "Python 3",
   "language": "python",
   "name": "python3"
  },
  "language_info": {
   "codemirror_mode": {
    "name": "ipython",
    "version": 3
   },
   "file_extension": ".py",
   "mimetype": "text/x-python",
   "name": "python",
   "nbconvert_exporter": "python",
   "pygments_lexer": "ipython3",
   "version": "3.8.3"
  }
 },
 "nbformat": 4,
 "nbformat_minor": 4
}
